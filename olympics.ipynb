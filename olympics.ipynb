{
 "cells": [
  {
   "cell_type": "code",
   "execution_count": 1,
   "metadata": {
    "ExecuteTime": {
     "end_time": "2021-05-10T18:29:34.839134Z",
     "start_time": "2021-05-10T18:29:31.755082Z"
    }
   },
   "outputs": [],
   "source": [
    "import pandas as pd \n",
    "import numpy as np \n",
    "import seaborn as sns \n",
    "import matplotlib.pyplot as plt\n",
    "plt.style.use('fivethirtyeight')"
   ]
  },
  {
   "cell_type": "code",
   "execution_count": 2,
   "metadata": {
    "ExecuteTime": {
     "end_time": "2021-05-10T18:29:53.686400Z",
     "start_time": "2021-05-10T18:29:51.173691Z"
    }
   },
   "outputs": [],
   "source": [
    "summer = pd.read_csv(\"https://raw.githubusercontent.com/rajeevratan84/data-analyst-bootcamp/master/summer.csv\")\n",
    "winter = pd.read_csv(\"https://raw.githubusercontent.com/rajeevratan84/data-analyst-bootcamp/master/winter.csv\")\n",
    "track = pd.read_csv(\"https://raw.githubusercontent.com/rajeevratan84/data-analyst-bootcamp/master/data.csv\")\n",
    "countries = pd.read_csv(\"https://raw.githubusercontent.com/rajeevratan84/data-analyst-bootcamp/master/dictionary.csv\")"
   ]
  },
  {
   "cell_type": "markdown",
   "metadata": {},
   "source": [
    "# Summer"
   ]
  },
  {
   "cell_type": "code",
   "execution_count": 3,
   "metadata": {
    "ExecuteTime": {
     "end_time": "2021-05-10T18:30:11.847525Z",
     "start_time": "2021-05-10T18:30:11.795397Z"
    }
   },
   "outputs": [
    {
     "data": {
      "text/html": [
       "<div>\n",
       "<style scoped>\n",
       "    .dataframe tbody tr th:only-of-type {\n",
       "        vertical-align: middle;\n",
       "    }\n",
       "\n",
       "    .dataframe tbody tr th {\n",
       "        vertical-align: top;\n",
       "    }\n",
       "\n",
       "    .dataframe thead th {\n",
       "        text-align: right;\n",
       "    }\n",
       "</style>\n",
       "<table border=\"1\" class=\"dataframe\">\n",
       "  <thead>\n",
       "    <tr style=\"text-align: right;\">\n",
       "      <th></th>\n",
       "      <th>Year</th>\n",
       "      <th>City</th>\n",
       "      <th>Sport</th>\n",
       "      <th>Discipline</th>\n",
       "      <th>Athlete</th>\n",
       "      <th>Country</th>\n",
       "      <th>Gender</th>\n",
       "      <th>Event</th>\n",
       "      <th>Medal</th>\n",
       "    </tr>\n",
       "  </thead>\n",
       "  <tbody>\n",
       "    <tr>\n",
       "      <th>0</th>\n",
       "      <td>1896</td>\n",
       "      <td>Athens</td>\n",
       "      <td>Aquatics</td>\n",
       "      <td>Swimming</td>\n",
       "      <td>HAJOS, Alfred</td>\n",
       "      <td>HUN</td>\n",
       "      <td>Men</td>\n",
       "      <td>100M Freestyle</td>\n",
       "      <td>Gold</td>\n",
       "    </tr>\n",
       "    <tr>\n",
       "      <th>1</th>\n",
       "      <td>1896</td>\n",
       "      <td>Athens</td>\n",
       "      <td>Aquatics</td>\n",
       "      <td>Swimming</td>\n",
       "      <td>HERSCHMANN, Otto</td>\n",
       "      <td>AUT</td>\n",
       "      <td>Men</td>\n",
       "      <td>100M Freestyle</td>\n",
       "      <td>Silver</td>\n",
       "    </tr>\n",
       "    <tr>\n",
       "      <th>2</th>\n",
       "      <td>1896</td>\n",
       "      <td>Athens</td>\n",
       "      <td>Aquatics</td>\n",
       "      <td>Swimming</td>\n",
       "      <td>DRIVAS, Dimitrios</td>\n",
       "      <td>GRE</td>\n",
       "      <td>Men</td>\n",
       "      <td>100M Freestyle For Sailors</td>\n",
       "      <td>Bronze</td>\n",
       "    </tr>\n",
       "    <tr>\n",
       "      <th>3</th>\n",
       "      <td>1896</td>\n",
       "      <td>Athens</td>\n",
       "      <td>Aquatics</td>\n",
       "      <td>Swimming</td>\n",
       "      <td>MALOKINIS, Ioannis</td>\n",
       "      <td>GRE</td>\n",
       "      <td>Men</td>\n",
       "      <td>100M Freestyle For Sailors</td>\n",
       "      <td>Gold</td>\n",
       "    </tr>\n",
       "    <tr>\n",
       "      <th>4</th>\n",
       "      <td>1896</td>\n",
       "      <td>Athens</td>\n",
       "      <td>Aquatics</td>\n",
       "      <td>Swimming</td>\n",
       "      <td>CHASAPIS, Spiridon</td>\n",
       "      <td>GRE</td>\n",
       "      <td>Men</td>\n",
       "      <td>100M Freestyle For Sailors</td>\n",
       "      <td>Silver</td>\n",
       "    </tr>\n",
       "  </tbody>\n",
       "</table>\n",
       "</div>"
      ],
      "text/plain": [
       "   Year    City     Sport Discipline             Athlete Country Gender  \\\n",
       "0  1896  Athens  Aquatics   Swimming       HAJOS, Alfred     HUN    Men   \n",
       "1  1896  Athens  Aquatics   Swimming    HERSCHMANN, Otto     AUT    Men   \n",
       "2  1896  Athens  Aquatics   Swimming   DRIVAS, Dimitrios     GRE    Men   \n",
       "3  1896  Athens  Aquatics   Swimming  MALOKINIS, Ioannis     GRE    Men   \n",
       "4  1896  Athens  Aquatics   Swimming  CHASAPIS, Spiridon     GRE    Men   \n",
       "\n",
       "                        Event   Medal  \n",
       "0              100M Freestyle    Gold  \n",
       "1              100M Freestyle  Silver  \n",
       "2  100M Freestyle For Sailors  Bronze  \n",
       "3  100M Freestyle For Sailors    Gold  \n",
       "4  100M Freestyle For Sailors  Silver  "
      ]
     },
     "execution_count": 3,
     "metadata": {},
     "output_type": "execute_result"
    }
   ],
   "source": [
    "summer.head()"
   ]
  },
  {
   "cell_type": "code",
   "execution_count": 55,
   "metadata": {
    "ExecuteTime": {
     "end_time": "2021-05-10T19:10:00.129358Z",
     "start_time": "2021-05-10T19:10:00.093987Z"
    }
   },
   "outputs": [
    {
     "name": "stdout",
     "output_type": "stream",
     "text": [
      "<class 'pandas.core.frame.DataFrame'>\n",
      "RangeIndex: 31165 entries, 0 to 31164\n",
      "Data columns (total 9 columns):\n",
      " #   Column      Non-Null Count  Dtype \n",
      "---  ------      --------------  ----- \n",
      " 0   year        31165 non-null  int64 \n",
      " 1   city        31165 non-null  object\n",
      " 2   sport       31165 non-null  object\n",
      " 3   discipline  31165 non-null  object\n",
      " 4   athlete     31165 non-null  object\n",
      " 5   country     31161 non-null  object\n",
      " 6   gender      31165 non-null  object\n",
      " 7   event       31165 non-null  object\n",
      " 8   medal       31165 non-null  object\n",
      "dtypes: int64(1), object(8)\n",
      "memory usage: 2.1+ MB\n"
     ]
    }
   ],
   "source": [
    "summer.info()"
   ]
  },
  {
   "cell_type": "code",
   "execution_count": 5,
   "metadata": {
    "ExecuteTime": {
     "end_time": "2021-05-10T18:31:08.614867Z",
     "start_time": "2021-05-10T18:31:08.596627Z"
    }
   },
   "outputs": [
    {
     "data": {
      "text/plain": [
       "Index(['Year', 'City', 'Sport', 'Discipline', 'Athlete', 'Country', 'Gender',\n",
       "       'Event', 'Medal'],\n",
       "      dtype='object')"
      ]
     },
     "execution_count": 5,
     "metadata": {},
     "output_type": "execute_result"
    }
   ],
   "source": [
    "summer.columns"
   ]
  },
  {
   "cell_type": "code",
   "execution_count": 6,
   "metadata": {
    "ExecuteTime": {
     "end_time": "2021-05-10T18:33:45.232447Z",
     "start_time": "2021-05-10T18:33:45.219920Z"
    }
   },
   "outputs": [],
   "source": [
    "new_cols = {\n",
    "    'Year':'year', \n",
    "    'City' :'city',\n",
    "    'Sport':'sport', \n",
    "    'Discipline':'discipline', \n",
    "    'Athlete' :'athlete',\n",
    "    'Country' :'country',\n",
    "    'Gender': 'gender',\n",
    "    'Event' : 'event',\n",
    "    'Medal': 'medal'\n",
    "}"
   ]
  },
  {
   "cell_type": "code",
   "execution_count": 9,
   "metadata": {
    "ExecuteTime": {
     "end_time": "2021-05-10T18:34:14.586116Z",
     "start_time": "2021-05-10T18:34:14.572842Z"
    }
   },
   "outputs": [
    {
     "data": {
      "text/plain": [
       "Index(['year', 'city', 'sport', 'discipline', 'athlete', 'country', 'gender',\n",
       "       'event', 'medal'],\n",
       "      dtype='object')"
      ]
     },
     "execution_count": 9,
     "metadata": {},
     "output_type": "execute_result"
    }
   ],
   "source": [
    "summer.rename(columns=new_cols, inplace=True)\n",
    "summer.columns"
   ]
  },
  {
   "cell_type": "code",
   "execution_count": 68,
   "metadata": {
    "ExecuteTime": {
     "end_time": "2021-05-10T19:39:08.709129Z",
     "start_time": "2021-05-10T19:39:08.614769Z"
    }
   },
   "outputs": [],
   "source": [
    "summer['athlete']=summer['athlete'].str.split(', ').str[::-1].str.join(' ')\n",
    "summer['athlete']=summer['athlete'].str.title()"
   ]
  },
  {
   "cell_type": "code",
   "execution_count": 69,
   "metadata": {
    "ExecuteTime": {
     "end_time": "2021-05-10T19:39:10.382983Z",
     "start_time": "2021-05-10T19:39:10.373155Z"
    }
   },
   "outputs": [
    {
     "name": "stdout",
     "output_type": "stream",
     "text": [
      "67\n"
     ]
    }
   ],
   "source": [
    "distinct_disciplines = summer['discipline'].unique()\n",
    "print(len(distinct_disciplines))"
   ]
  },
  {
   "cell_type": "code",
   "execution_count": 70,
   "metadata": {
    "ExecuteTime": {
     "end_time": "2021-05-10T19:39:12.640522Z",
     "start_time": "2021-05-10T19:39:12.620632Z"
    }
   },
   "outputs": [
    {
     "data": {
      "text/plain": [
       "6       0.059701\n",
       "24      0.044776\n",
       "66      0.044776\n",
       "30      0.029851\n",
       "3       0.029851\n",
       "144     0.029851\n",
       "27      0.029851\n",
       "153     0.014925\n",
       "48      0.014925\n",
       "174     0.014925\n",
       "296     0.014925\n",
       "934     0.014925\n",
       "549     0.014925\n",
       "33      0.014925\n",
       "59      0.014925\n",
       "14      0.014925\n",
       "180     0.014925\n",
       "21      0.014925\n",
       "15      0.014925\n",
       "1422    0.014925\n",
       "12      0.014925\n",
       "267     0.014925\n",
       "10      0.014925\n",
       "8       0.014925\n",
       "5       0.014925\n",
       "4       0.014925\n",
       "912     0.014925\n",
       "591     0.014925\n",
       "3638    0.014925\n",
       "894     0.014925\n",
       "1109    0.014925\n",
       "1150    0.014925\n",
       "392     0.014925\n",
       "1012    0.014925\n",
       "112     0.014925\n",
       "748     0.014925\n",
       "491     0.014925\n",
       "880     0.014925\n",
       "973     0.014925\n",
       "93      0.014925\n",
       "90      0.014925\n",
       "1497    0.014925\n",
       "94      0.014925\n",
       "2103    0.014925\n",
       "593     0.014925\n",
       "335     0.014925\n",
       "78      0.014925\n",
       "1613    0.014925\n",
       "331     0.014925\n",
       "329     0.014925\n",
       "72      0.014925\n",
       "327     0.014925\n",
       "2628    0.014925\n",
       "192     0.014925\n",
       "315     0.014925\n",
       "2667    0.014925\n",
       "Name: medal, dtype: float64"
      ]
     },
     "execution_count": 70,
     "metadata": {},
     "output_type": "execute_result"
    }
   ],
   "source": [
    "medals_discipline = summer.groupby([\"discipline\"])[\"medal\"].count()\n",
    "medals_discipline.value_counts(normalize = True)"
   ]
  },
  {
   "cell_type": "code",
   "execution_count": 71,
   "metadata": {
    "ExecuteTime": {
     "end_time": "2021-05-10T19:39:12.929287Z",
     "start_time": "2021-05-10T19:39:12.900555Z"
    }
   },
   "outputs": [
    {
     "data": {
      "text/html": [
       "<div>\n",
       "<style scoped>\n",
       "    .dataframe tbody tr th:only-of-type {\n",
       "        vertical-align: middle;\n",
       "    }\n",
       "\n",
       "    .dataframe tbody tr th {\n",
       "        vertical-align: top;\n",
       "    }\n",
       "\n",
       "    .dataframe thead th {\n",
       "        text-align: right;\n",
       "    }\n",
       "</style>\n",
       "<table border=\"1\" class=\"dataframe\">\n",
       "  <thead>\n",
       "    <tr style=\"text-align: right;\">\n",
       "      <th></th>\n",
       "      <th>year</th>\n",
       "      <th>city</th>\n",
       "      <th>sport</th>\n",
       "      <th>discipline</th>\n",
       "      <th>athlete</th>\n",
       "      <th>country</th>\n",
       "      <th>gender</th>\n",
       "      <th>event</th>\n",
       "      <th>medal</th>\n",
       "    </tr>\n",
       "  </thead>\n",
       "  <tbody>\n",
       "    <tr>\n",
       "      <th>28018</th>\n",
       "      <td>2008</td>\n",
       "      <td>Beijing</td>\n",
       "      <td>Cycling</td>\n",
       "      <td>BMX</td>\n",
       "      <td>Donny Robinson</td>\n",
       "      <td>USA</td>\n",
       "      <td>Men</td>\n",
       "      <td>Individual</td>\n",
       "      <td>Bronze</td>\n",
       "    </tr>\n",
       "    <tr>\n",
       "      <th>28019</th>\n",
       "      <td>2008</td>\n",
       "      <td>Beijing</td>\n",
       "      <td>Cycling</td>\n",
       "      <td>BMX</td>\n",
       "      <td>Maris Strombergs</td>\n",
       "      <td>LAT</td>\n",
       "      <td>Men</td>\n",
       "      <td>Individual</td>\n",
       "      <td>Gold</td>\n",
       "    </tr>\n",
       "    <tr>\n",
       "      <th>28020</th>\n",
       "      <td>2008</td>\n",
       "      <td>Beijing</td>\n",
       "      <td>Cycling</td>\n",
       "      <td>BMX</td>\n",
       "      <td>Mike Day</td>\n",
       "      <td>USA</td>\n",
       "      <td>Men</td>\n",
       "      <td>Individual</td>\n",
       "      <td>Silver</td>\n",
       "    </tr>\n",
       "    <tr>\n",
       "      <th>28021</th>\n",
       "      <td>2008</td>\n",
       "      <td>Beijing</td>\n",
       "      <td>Cycling</td>\n",
       "      <td>BMX</td>\n",
       "      <td>Jill Kintner</td>\n",
       "      <td>USA</td>\n",
       "      <td>Women</td>\n",
       "      <td>Individual</td>\n",
       "      <td>Bronze</td>\n",
       "    </tr>\n",
       "    <tr>\n",
       "      <th>28022</th>\n",
       "      <td>2008</td>\n",
       "      <td>Beijing</td>\n",
       "      <td>Cycling</td>\n",
       "      <td>BMX</td>\n",
       "      <td>Anne-Caroline Chausson</td>\n",
       "      <td>FRA</td>\n",
       "      <td>Women</td>\n",
       "      <td>Individual</td>\n",
       "      <td>Gold</td>\n",
       "    </tr>\n",
       "  </tbody>\n",
       "</table>\n",
       "</div>"
      ],
      "text/plain": [
       "       year     city    sport discipline                 athlete country  \\\n",
       "28018  2008  Beijing  Cycling        BMX          Donny Robinson     USA   \n",
       "28019  2008  Beijing  Cycling        BMX        Maris Strombergs     LAT   \n",
       "28020  2008  Beijing  Cycling        BMX                Mike Day     USA   \n",
       "28021  2008  Beijing  Cycling        BMX            Jill Kintner     USA   \n",
       "28022  2008  Beijing  Cycling        BMX  Anne-Caroline Chausson     FRA   \n",
       "\n",
       "      gender       event   medal  \n",
       "28018    Men  Individual  Bronze  \n",
       "28019    Men  Individual    Gold  \n",
       "28020    Men  Individual  Silver  \n",
       "28021  Women  Individual  Bronze  \n",
       "28022  Women  Individual    Gold  "
      ]
     },
     "execution_count": 71,
     "metadata": {},
     "output_type": "execute_result"
    }
   ],
   "source": [
    "bmx = summer.loc[summer['discipline'] == \"BMX\"]\n",
    "bmx.head()"
   ]
  },
  {
   "cell_type": "markdown",
   "metadata": {},
   "source": [
    "Fun fact: BMX Racing was added to the Olympic Games in 2008. Now, BMX Freestyle has been recently added for the 2020 Olympic Games in Tokyo"
   ]
  },
  {
   "cell_type": "code",
   "execution_count": 72,
   "metadata": {
    "ExecuteTime": {
     "end_time": "2021-05-10T19:39:13.556419Z",
     "start_time": "2021-05-10T19:39:13.470284Z"
    }
   },
   "outputs": [
    {
     "data": {
      "text/html": [
       "<div>\n",
       "<style scoped>\n",
       "    .dataframe tbody tr th:only-of-type {\n",
       "        vertical-align: middle;\n",
       "    }\n",
       "\n",
       "    .dataframe tbody tr th {\n",
       "        vertical-align: top;\n",
       "    }\n",
       "\n",
       "    .dataframe thead th {\n",
       "        text-align: right;\n",
       "    }\n",
       "</style>\n",
       "<table border=\"1\" class=\"dataframe\">\n",
       "  <thead>\n",
       "    <tr style=\"text-align: right;\">\n",
       "      <th></th>\n",
       "      <th>athlete</th>\n",
       "      <th>medal</th>\n",
       "      <th>sport</th>\n",
       "    </tr>\n",
       "  </thead>\n",
       "  <tbody>\n",
       "    <tr>\n",
       "      <th>17344</th>\n",
       "      <td>Michael Phelps</td>\n",
       "      <td>Gold</td>\n",
       "      <td>18</td>\n",
       "    </tr>\n",
       "    <tr>\n",
       "      <th>7645</th>\n",
       "      <td>Franziska Van Almsick</td>\n",
       "      <td>Bronze</td>\n",
       "      <td>6</td>\n",
       "    </tr>\n",
       "    <tr>\n",
       "      <th>22307</th>\n",
       "      <td>Shirley Farber Babashoff</td>\n",
       "      <td>Silver</td>\n",
       "      <td>6</td>\n",
       "    </tr>\n",
       "  </tbody>\n",
       "</table>\n",
       "</div>"
      ],
      "text/plain": [
       "                        athlete   medal  sport\n",
       "17344            Michael Phelps    Gold     18\n",
       "7645      Franziska Van Almsick  Bronze      6\n",
       "22307  Shirley Farber Babashoff  Silver      6"
      ]
     },
     "execution_count": 72,
     "metadata": {},
     "output_type": "execute_result"
    }
   ],
   "source": [
    "medals=summer.groupby(['athlete','medal'])['sport'].count().reset_index().sort_values(by='sport',ascending=False)\n",
    "medals=medals.drop_duplicates(subset=['medal'],keep='first')\n",
    "medals.rename(columns = {'sport' : 'count'})\n",
    "medals.head()"
   ]
  },
  {
   "cell_type": "markdown",
   "metadata": {
    "ExecuteTime": {
     "end_time": "2021-05-10T19:27:58.212611Z",
     "start_time": "2021-05-10T19:27:58.181692Z"
    }
   },
   "source": [
    "The most \"medaled\" athlete  in summer olympics was Micheal Phelps, swimmer."
   ]
  },
  {
   "cell_type": "code",
   "execution_count": 77,
   "metadata": {
    "ExecuteTime": {
     "end_time": "2021-05-10T19:41:32.940073Z",
     "start_time": "2021-05-10T19:41:32.907125Z"
    }
   },
   "outputs": [
    {
     "data": {
      "text/html": [
       "<div>\n",
       "<style scoped>\n",
       "    .dataframe tbody tr th:only-of-type {\n",
       "        vertical-align: middle;\n",
       "    }\n",
       "\n",
       "    .dataframe tbody tr th {\n",
       "        vertical-align: top;\n",
       "    }\n",
       "\n",
       "    .dataframe thead th {\n",
       "        text-align: right;\n",
       "    }\n",
       "</style>\n",
       "<table border=\"1\" class=\"dataframe\">\n",
       "  <thead>\n",
       "    <tr style=\"text-align: right;\">\n",
       "      <th></th>\n",
       "      <th>year</th>\n",
       "      <th>city</th>\n",
       "      <th>sport</th>\n",
       "      <th>discipline</th>\n",
       "      <th>athlete</th>\n",
       "      <th>country</th>\n",
       "      <th>gender</th>\n",
       "      <th>event</th>\n",
       "      <th>medal</th>\n",
       "    </tr>\n",
       "  </thead>\n",
       "  <tbody>\n",
       "    <tr>\n",
       "      <th>25225</th>\n",
       "      <td>2004</td>\n",
       "      <td>Athens</td>\n",
       "      <td>Aquatics</td>\n",
       "      <td>Swimming</td>\n",
       "      <td>Michael Phelps</td>\n",
       "      <td>USA</td>\n",
       "      <td>Men</td>\n",
       "      <td>100M Butterfly</td>\n",
       "      <td>Gold</td>\n",
       "    </tr>\n",
       "    <tr>\n",
       "      <th>25253</th>\n",
       "      <td>2004</td>\n",
       "      <td>Athens</td>\n",
       "      <td>Aquatics</td>\n",
       "      <td>Swimming</td>\n",
       "      <td>Michael Phelps</td>\n",
       "      <td>USA</td>\n",
       "      <td>Men</td>\n",
       "      <td>200M Butterfly</td>\n",
       "      <td>Gold</td>\n",
       "    </tr>\n",
       "    <tr>\n",
       "      <th>25258</th>\n",
       "      <td>2004</td>\n",
       "      <td>Athens</td>\n",
       "      <td>Aquatics</td>\n",
       "      <td>Swimming</td>\n",
       "      <td>Michael Phelps</td>\n",
       "      <td>USA</td>\n",
       "      <td>Men</td>\n",
       "      <td>200M Freestyle</td>\n",
       "      <td>Bronze</td>\n",
       "    </tr>\n",
       "    <tr>\n",
       "      <th>25265</th>\n",
       "      <td>2004</td>\n",
       "      <td>Athens</td>\n",
       "      <td>Aquatics</td>\n",
       "      <td>Swimming</td>\n",
       "      <td>Michael Phelps</td>\n",
       "      <td>USA</td>\n",
       "      <td>Men</td>\n",
       "      <td>200M Individual Medley</td>\n",
       "      <td>Gold</td>\n",
       "    </tr>\n",
       "    <tr>\n",
       "      <th>25277</th>\n",
       "      <td>2004</td>\n",
       "      <td>Athens</td>\n",
       "      <td>Aquatics</td>\n",
       "      <td>Swimming</td>\n",
       "      <td>Michael Phelps</td>\n",
       "      <td>USA</td>\n",
       "      <td>Men</td>\n",
       "      <td>400M Individual Medley</td>\n",
       "      <td>Gold</td>\n",
       "    </tr>\n",
       "  </tbody>\n",
       "</table>\n",
       "</div>"
      ],
      "text/plain": [
       "       year    city     sport discipline         athlete country gender  \\\n",
       "25225  2004  Athens  Aquatics   Swimming  Michael Phelps     USA    Men   \n",
       "25253  2004  Athens  Aquatics   Swimming  Michael Phelps     USA    Men   \n",
       "25258  2004  Athens  Aquatics   Swimming  Michael Phelps     USA    Men   \n",
       "25265  2004  Athens  Aquatics   Swimming  Michael Phelps     USA    Men   \n",
       "25277  2004  Athens  Aquatics   Swimming  Michael Phelps     USA    Men   \n",
       "\n",
       "                        event   medal  \n",
       "25225          100M Butterfly    Gold  \n",
       "25253          200M Butterfly    Gold  \n",
       "25258          200M Freestyle  Bronze  \n",
       "25265  200M Individual Medley    Gold  \n",
       "25277  400M Individual Medley    Gold  "
      ]
     },
     "execution_count": 77,
     "metadata": {},
     "output_type": "execute_result"
    }
   ],
   "source": [
    "michael_phelps = summer.loc[summer['athlete'] == 'Michael Phelps']\n",
    "michael_phelps.head()"
   ]
  },
  {
   "cell_type": "code",
   "execution_count": 81,
   "metadata": {
    "ExecuteTime": {
     "end_time": "2021-05-10T19:44:03.971093Z",
     "start_time": "2021-05-10T19:44:03.945964Z"
    }
   },
   "outputs": [
    {
     "data": {
      "text/html": [
       "<div>\n",
       "<style scoped>\n",
       "    .dataframe tbody tr th:only-of-type {\n",
       "        vertical-align: middle;\n",
       "    }\n",
       "\n",
       "    .dataframe tbody tr th {\n",
       "        vertical-align: top;\n",
       "    }\n",
       "\n",
       "    .dataframe thead th {\n",
       "        text-align: right;\n",
       "    }\n",
       "</style>\n",
       "<table border=\"1\" class=\"dataframe\">\n",
       "  <thead>\n",
       "    <tr style=\"text-align: right;\">\n",
       "      <th></th>\n",
       "      <th>event</th>\n",
       "      <th>medal</th>\n",
       "    </tr>\n",
       "  </thead>\n",
       "  <tbody>\n",
       "    <tr>\n",
       "      <th>0</th>\n",
       "      <td>100M Butterfly</td>\n",
       "      <td>3</td>\n",
       "    </tr>\n",
       "    <tr>\n",
       "      <th>1</th>\n",
       "      <td>200M Butterfly</td>\n",
       "      <td>3</td>\n",
       "    </tr>\n",
       "    <tr>\n",
       "      <th>2</th>\n",
       "      <td>200M Freestyle</td>\n",
       "      <td>2</td>\n",
       "    </tr>\n",
       "    <tr>\n",
       "      <th>3</th>\n",
       "      <td>200M Individual Medley</td>\n",
       "      <td>2</td>\n",
       "    </tr>\n",
       "    <tr>\n",
       "      <th>4</th>\n",
       "      <td>200M Medley</td>\n",
       "      <td>1</td>\n",
       "    </tr>\n",
       "    <tr>\n",
       "      <th>5</th>\n",
       "      <td>400M Individual Medley</td>\n",
       "      <td>2</td>\n",
       "    </tr>\n",
       "    <tr>\n",
       "      <th>6</th>\n",
       "      <td>4X100M Freestyle</td>\n",
       "      <td>1</td>\n",
       "    </tr>\n",
       "    <tr>\n",
       "      <th>7</th>\n",
       "      <td>4X100M Freestyle Relay</td>\n",
       "      <td>2</td>\n",
       "    </tr>\n",
       "    <tr>\n",
       "      <th>8</th>\n",
       "      <td>4X100M Medley</td>\n",
       "      <td>1</td>\n",
       "    </tr>\n",
       "    <tr>\n",
       "      <th>9</th>\n",
       "      <td>4X100M Medley Relay</td>\n",
       "      <td>2</td>\n",
       "    </tr>\n",
       "    <tr>\n",
       "      <th>10</th>\n",
       "      <td>4X200M Freestyle</td>\n",
       "      <td>1</td>\n",
       "    </tr>\n",
       "    <tr>\n",
       "      <th>11</th>\n",
       "      <td>4X200M Freestyle Relay</td>\n",
       "      <td>2</td>\n",
       "    </tr>\n",
       "  </tbody>\n",
       "</table>\n",
       "</div>"
      ],
      "text/plain": [
       "                     event  medal\n",
       "0           100M Butterfly      3\n",
       "1           200M Butterfly      3\n",
       "2           200M Freestyle      2\n",
       "3   200M Individual Medley      2\n",
       "4              200M Medley      1\n",
       "5   400M Individual Medley      2\n",
       "6         4X100M Freestyle      1\n",
       "7   4X100M Freestyle Relay      2\n",
       "8            4X100M Medley      1\n",
       "9      4X100M Medley Relay      2\n",
       "10        4X200M Freestyle      1\n",
       "11  4X200M Freestyle Relay      2"
      ]
     },
     "execution_count": 81,
     "metadata": {},
     "output_type": "execute_result"
    }
   ],
   "source": [
    "michael_phelps.groupby(['event'])['medal'].count().reset_index()"
   ]
  },
  {
   "cell_type": "code",
   "execution_count": 84,
   "metadata": {
    "ExecuteTime": {
     "end_time": "2021-05-10T19:54:30.425663Z",
     "start_time": "2021-05-10T19:54:29.778228Z"
    }
   },
   "outputs": [
    {
     "data": {
      "text/plain": [
       "<AxesSubplot:ylabel='event'>"
      ]
     },
     "execution_count": 84,
     "metadata": {},
     "output_type": "execute_result"
    },
    {
     "data": {
      "image/png": "[encoded data removed]",
      "text/plain": [
       "<Figure size 432x288 with 1 Axes>"
      ]
     },
     "metadata": {},
     "output_type": "display_data"
    }
   ],
   "source": [
    "michael_phelps.groupby(['event'])['medal'].count().plot(kind='barh')"
   ]
  },
  {
   "cell_type": "code",
   "execution_count": null,
   "metadata": {},
   "outputs": [],
   "source": []
  }
 ],
 "metadata": {
  "kernelspec": {
   "display_name": "Python 3",
   "language": "python",
   "name": "python3"
  },
  "language_info": {
   "codemirror_mode": {
    "name": "ipython",
    "version": 3
   },
   "file_extension": ".py",
   "mimetype": "text/x-python",
   "name": "python",
   "nbconvert_exporter": "python",
   "pygments_lexer": "ipython3",
   "version": "3.8.5"
  },
  "varInspector": {
   "cols": {
    "lenName": 16,
    "lenType": 16,
    "lenVar": 40
   },
   "kernels_config": {
    "python": {
     "delete_cmd_postfix": "",
     "delete_cmd_prefix": "del ",
     "library": "var_list.py",
     "varRefreshCmd": "print(var_dic_list())"
    },
    "r": {
     "delete_cmd_postfix": ") ",
     "delete_cmd_prefix": "rm(",
     "library": "var_list.r",
     "varRefreshCmd": "cat(var_dic_list()) "
    }
   },
   "types_to_exclude": [
    "module",
    "function",
    "builtin_function_or_method",
    "instance",
    "_Feature"
   ],
   "window_display": false
  }
 },
 "nbformat": 4,
 "nbformat_minor": 4
}
